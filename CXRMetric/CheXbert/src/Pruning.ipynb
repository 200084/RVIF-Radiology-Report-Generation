{
 "cells": [
  {
   "cell_type": "code",
   "execution_count": 1,
   "metadata": {},
   "outputs": [],
   "source": [
    "import torch\n",
    "import matplotlib.pyplot as plt\n",
    "%matplotlib inline\n",
    "import pandas\n",
    "from tqdm.notebook import tqdm"
   ]
  },
  {
   "cell_type": "code",
   "execution_count": 2,
   "metadata": {},
   "outputs": [],
   "source": [
    "data = torch.load(\"sentence_embed.pt\")\n",
    "#unique = torch.load(\"unique.pt\")\n",
    "# df = pandas.read_csv(\"../../mimic_impressions.csv\")"
   ]
  },
  {
   "cell_type": "code",
   "execution_count": 3,
   "metadata": {},
   "outputs": [
    {
     "name": "stdout",
     "output_type": "stream",
     "text": [
      "torch.Size([454265, 768]) torch.Size([454265]) 454265 cuda:0\n"
     ]
    }
   ],
   "source": [
    "device = \"cuda:0\" if torch.cuda.is_available() else \"cpu\"\n",
    "norms = torch.stack([torch.norm(data[a]) for a in data]).to(device)\n",
    "values = torch.stack([data[a] for a in sorted(data.keys())]).to(device)\n",
    "cuda_data = [data[a].to(device) for a in data]\n",
    "print(values.size(), norms.size(), len(cuda_data), device)"
   ]
  },
  {
   "cell_type": "code",
   "execution_count": 17,
   "metadata": {},
   "outputs": [
    {
     "data": {
      "application/vnd.jupyter.widget-view+json": {
       "model_id": "6e00258267e341109bf9de1324f27150",
       "version_major": 2,
       "version_minor": 0
      },
      "text/plain": [
       "HBox(children=(FloatProgress(value=0.0, max=454265.0), HTML(value='')))"
      ]
     },
     "metadata": {},
     "output_type": "display_data"
    },
    {
     "name": "stdout",
     "output_type": "stream",
     "text": [
      "\n",
      "0.2 10\n"
     ]
    },
    {
     "data": {
      "application/vnd.jupyter.widget-view+json": {
       "model_id": "1bc3cddcd42d4f57ac8aae5bff4a3a0b",
       "version_major": 2,
       "version_minor": 0
      },
      "text/plain": [
       "HBox(children=(FloatProgress(value=0.0, max=454265.0), HTML(value='')))"
      ]
     },
     "metadata": {},
     "output_type": "display_data"
    },
    {
     "name": "stdout",
     "output_type": "stream",
     "text": [
      "\n",
      "0.4 36\n"
     ]
    },
    {
     "data": {
      "application/vnd.jupyter.widget-view+json": {
       "model_id": "af5dd3dabb754e5098b03c8f02dcd9f4",
       "version_major": 2,
       "version_minor": 0
      },
      "text/plain": [
       "HBox(children=(FloatProgress(value=0.0, max=454265.0), HTML(value='')))"
      ]
     },
     "metadata": {},
     "output_type": "display_data"
    },
    {
     "name": "stdout",
     "output_type": "stream",
     "text": [
      "\n",
      "0.6 265\n"
     ]
    },
    {
     "data": {
      "application/vnd.jupyter.widget-view+json": {
       "model_id": "e9022c3a44b045508a1152d717af2c20",
       "version_major": 2,
       "version_minor": 0
      },
      "text/plain": [
       "HBox(children=(FloatProgress(value=0.0, max=454265.0), HTML(value='')))"
      ]
     },
     "metadata": {},
     "output_type": "display_data"
    },
    {
     "name": "stdout",
     "output_type": "stream",
     "text": [
      "\n",
      "0.75 1546\n"
     ]
    },
    {
     "data": {
      "application/vnd.jupyter.widget-view+json": {
       "model_id": "8026984f96a6411b965c9c432036379c",
       "version_major": 2,
       "version_minor": 0
      },
      "text/plain": [
       "HBox(children=(FloatProgress(value=0.0, max=454265.0), HTML(value='')))"
      ]
     },
     "metadata": {},
     "output_type": "display_data"
    },
    {
     "name": "stdout",
     "output_type": "stream",
     "text": [
      "\n",
      "0.85 7510\n"
     ]
    },
    {
     "data": {
      "application/vnd.jupyter.widget-view+json": {
       "model_id": "26a0d5e6abfd492f815eac0eb3c8aa27",
       "version_major": 2,
       "version_minor": 0
      },
      "text/plain": [
       "HBox(children=(FloatProgress(value=0.0, max=454265.0), HTML(value='')))"
      ]
     },
     "metadata": {},
     "output_type": "display_data"
    },
    {
     "name": "stdout",
     "output_type": "stream",
     "text": [
      "\n",
      "0.9 20470\n"
     ]
    },
    {
     "data": {
      "application/vnd.jupyter.widget-view+json": {
       "model_id": "df07a42bceb04d1da1b12b03dbd190e5",
       "version_major": 2,
       "version_minor": 0
      },
      "text/plain": [
       "HBox(children=(FloatProgress(value=0.0, max=454265.0), HTML(value='')))"
      ]
     },
     "metadata": {},
     "output_type": "display_data"
    },
    {
     "name": "stdout",
     "output_type": "stream",
     "text": [
      "\n",
      "0.95 61496\n"
     ]
    },
    {
     "data": {
      "application/vnd.jupyter.widget-view+json": {
       "model_id": "201bbbb5a9a2489daf5c108948c9df8e",
       "version_major": 2,
       "version_minor": 0
      },
      "text/plain": [
       "HBox(children=(FloatProgress(value=0.0, max=454265.0), HTML(value='')))"
      ]
     },
     "metadata": {},
     "output_type": "display_data"
    },
    {
     "name": "stdout",
     "output_type": "stream",
     "text": [
      "\n",
      "0.99 167272\n"
     ]
    }
   ],
   "source": [
    "sizes = []\n",
    "cutoffs = [0.99, 0.95, 0.9, 0.85, 0.75, 0.6, 0.4, 0.2]\n",
    "# cutoffs = [0.98, 0.95, 0.9, 0.85, 0.65, 0.4, 0.2]\n",
    "for cutoff in cutoffs[::-1]:\n",
    "    x = {}\n",
    "    copy = set()\n",
    "    pbar = tqdm(total=len(data))\n",
    "    idxs = set(range(len(data)))\n",
    "    values_copy = values.detach().clone().to(device)\n",
    "    while len(idxs) != 0:\n",
    "        i = min(idxs)\n",
    "        cos = values_copy @ cuda_data[i] / (norms * norms[i])\n",
    "        same_t = torch.where(cos > cutoff)[0]\n",
    "        same = set(same_t.tolist())\n",
    "        copy.update(same)\n",
    "        x[i] = same\n",
    "        idxs -= same\n",
    "        idxs -= {i}\n",
    "        values_copy[same_t, :] *= 0.\n",
    "        pbar.update(1)\n",
    "    pbar.close()\n",
    "    print(cutoff, len(x))\n",
    "    sizes.append(len(x))\n",
    "    num = int(cutoff*100)\n",
    "    torch.save(x, f\"sentences_{num}.pt\")"
   ]
  },
  {
   "cell_type": "code",
   "execution_count": 15,
   "metadata": {},
   "outputs": [],
   "source": [
    "# torch.save(x, \"sentences_95.pt\")"
   ]
  },
  {
   "cell_type": "code",
   "execution_count": 18,
   "metadata": {},
   "outputs": [
    {
     "name": "stdout",
     "output_type": "stream",
     "text": [
      "167272\n",
      "[0, 2, 3, 4, 5, 6, 7, 8, 9, 10]\n",
      "{10, 238068, 285119}\n",
      "[10, 36, 265, 1546, 7510, 20470, 61496, 167272] [0.99, 0.95, 0.9, 0.85, 0.75, 0.6, 0.4, 0.2]\n"
     ]
    }
   ],
   "source": [
    "print(len(x))\n",
    "print(list(x.keys())[:10])\n",
    "print(x[10])\n",
    "print(sizes, cutoffs)"
   ]
  },
  {
   "cell_type": "code",
   "execution_count": 19,
   "metadata": {},
   "outputs": [
    {
     "data": {
      "image/png": "[encoded data removed]",
      "text/plain": [
       "<Figure size 432x288 with 1 Axes>"
      ]
     },
     "metadata": {
      "needs_background": "light"
     },
     "output_type": "display_data"
    }
   ],
   "source": [
    "plt.scatter(sizes + [331007], cutoffs[::-1] + [1.0])\n",
    "plt.show()"
   ]
  },
  {
   "cell_type": "code",
   "execution_count": 11,
   "metadata": {},
   "outputs": [
    {
     "name": "stdout",
     "output_type": "stream",
     "text": [
      "tensor(0.9468)\n"
     ]
    }
   ],
   "source": [
    "a, b = data[0], data[2]\n",
    "print(a @ b / (torch.norm(a) * torch.norm(b)))"
   ]
  },
  {
   "cell_type": "code",
   "execution_count": 20,
   "metadata": {},
   "outputs": [
    {
     "data": {
      "image/png": "[encoded data removed]",
      "text/plain": [
       "<Figure size 432x288 with 1 Axes>"
      ]
     },
     "metadata": {
      "needs_background": "light"
     },
     "output_type": "display_data"
    }
   ],
   "source": [
    "plt.scatter(sizes + [331007], cutoffs[::-1] + [1.00])\n",
    "plt.title(\"Compression\")\n",
    "plt.xlabel(\"Number of Sentences\")\n",
    "plt.ylabel(\"Cosine Sim. Threshold\")\n",
    "plt.savefig(\"./compress_sentences.png\")"
   ]
  },
  {
   "cell_type": "code",
   "execution_count": null,
   "metadata": {},
   "outputs": [],
   "source": []
  }
 ],
 "metadata": {
  "kernelspec": {
   "display_name": "Python 3",
   "language": "python",
   "name": "python3"
  },
  "language_info": {
   "codemirror_mode": {
    "name": "ipython",
    "version": 3
   },
   "file_extension": ".py",
   "mimetype": "text/x-python",
   "name": "python",
   "nbconvert_exporter": "python",
   "pygments_lexer": "ipython3",
   "version": "3.7.7"
  }
 },
 "nbformat": 4,
 "nbformat_minor": 4
}
